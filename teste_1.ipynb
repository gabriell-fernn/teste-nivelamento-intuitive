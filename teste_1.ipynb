{
 "cells": [
  {
   "cell_type": "code",
   "execution_count": 4,
   "id": "316e3850-d094-4637-ad91-96e5d1bf8535",
   "metadata": {},
   "outputs": [
    {
     "name": "stdout",
     "output_type": "stream",
     "text": [
      "Link encontrado: https://www.gov.br/ans/pt-br/acesso-a-informacao/participacao-da-sociedade/atualizacao-do-rol-de-procedimentos/Anexo_I_Rol_2021RN_465.2021_RN627L.2024.pdf\n",
      "Link encontrado: https://www.gov.br/ans/pt-br/acesso-a-informacao/participacao-da-sociedade/atualizacao-do-rol-de-procedimentos/Anexo_II_DUT_2021_RN_465.2021_RN628.2025_RN629.2025.pdf\n",
      "Download concluído: downloads_ans\\Anexo_I_Rol_2021RN_465.2021_RN627L.2024.pdf\n",
      "Download concluído: downloads_ans\\Anexo_II_DUT_2021_RN_465.2021_RN628.2025_RN629.2025.pdf\n",
      "Arquivos compactados em C:\\Users\\gabri\\Workspace\\teste-nivelamento\\anexos_ans.zip\n"
     ]
    }
   ],
   "source": [
    "import requests\n",
    "from bs4 import BeautifulSoup\n",
    "import os\n",
    "import zipfile\n",
    "\n",
    "url = 'https://www.gov.br/ans/pt-br/acesso-a-informacao/participacao-da-sociedade/atualizacao-do-rol-de-procedimentos'\n",
    "\n",
    "requisicao = requests.get(url)\n",
    "pagina = BeautifulSoup(requisicao.text, 'html.parser')\n",
    "links = pagina.find_all('a')\n",
    "links_pdf = []\n",
    "\n",
    "# Procura os Anexos I e II\n",
    "\n",
    "for link in links:\n",
    "    # Segundo parâmetro evita que ocorra um erro caso não exista um href\n",
    "    href = link.get('href', '')\n",
    "    if href.lower().endswith('.pdf'):\n",
    "        if 'Anexo_I' in href or 'Anexo_II' in href:\n",
    "            links_pdf.append(href)\n",
    "            print(f'Link encontrado: {href}')\n",
    "\n",
    "# Fazer download dos pdfs e compactar\n",
    "\n",
    "pasta_downloads = 'downloads_ans'\n",
    "if not os.path.exists(pasta_downloads):\n",
    "    os.mkdir(pasta_downloads)\n",
    "\n",
    "pdfs_baixados = []\n",
    "\n",
    "for link_pdf in links_pdf:\n",
    "    # Nome do arquivo (parametro 1: local a ser salvo, parametro 2: nome do arquivo)\n",
    "    nome_arquivo = os.path.join(pasta_downloads, link_pdf.split('/')[-1])\n",
    "    \n",
    "    try:\n",
    "        resposta_pdf = requests.get(link_pdf)\n",
    "        \n",
    "        with open(nome_arquivo, 'wb') as arquivo:\n",
    "            arquivo.write(resposta_pdf.content)\n",
    "        \n",
    "        pdfs_baixados.append(nome_arquivo)\n",
    "        print(f'Download concluído: {nome_arquivo}')\n",
    "    \n",
    "    except Exception as erro:\n",
    "        print(f'Erro ao baixar {link_pdf}: {erro}')\n",
    "\n",
    "# Se tiver algum valor dentro do Array Pdfs_baixados\n",
    "if pdfs_baixados:\n",
    "    pasta_atual = os.getcwd()\n",
    "    caminho_zip = os.path.join(pasta_atual, 'anexos_ans.zip')\n",
    "    \n",
    "    with zipfile.ZipFile(caminho_zip, 'w') as arquivo_zip:\n",
    "        for pdf in pdfs_baixados:\n",
    "            arquivo_zip.write(pdf, os.path.basename(pdf))\n",
    "    \n",
    "    print(f'Arquivos compactados em {caminho_zip}')\n",
    "else:\n",
    "    print('Nenhum PDF encontrado')"
   ]
  }
 ],
 "metadata": {
  "kernelspec": {
   "display_name": "Python 3 (ipykernel)",
   "language": "python",
   "name": "python3"
  },
  "language_info": {
   "codemirror_mode": {
    "name": "ipython",
    "version": 3
   },
   "file_extension": ".py",
   "mimetype": "text/x-python",
   "name": "python",
   "nbconvert_exporter": "python",
   "pygments_lexer": "ipython3",
   "version": "3.13.2"
  }
 },
 "nbformat": 4,
 "nbformat_minor": 5
}
