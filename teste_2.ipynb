{
 "cells": [
  {
   "cell_type": "code",
   "execution_count": 11,
   "id": "d6475dbf-de46-4908-afe9-98c94fbc051b",
   "metadata": {},
   "outputs": [
    {
     "name": "stdout",
     "output_type": "stream",
     "text": [
      "✅ Arquivos gerados com sucesso: Teste_Gabriell_Fernandes_de_Oliveira.zip\n"
     ]
    }
   ],
   "source": [
    "import pdfplumber\n",
    "import pandas as pd\n",
    "import zipfile\n",
    "import os\n",
    "\n",
    "arquivo_pdf = \"Anexo_I_Rol_2021RN_465.2021_RN627L.2024.pdf\"\n",
    "arquivo_csv = \"Rol_de_Procedimentos.csv\"\n",
    "arquivo_zip = \"Teste_Gabriell_Fernandes_de_Oliveira.zip\"\n",
    "\n",
    "abreviacoes = {\n",
    "    \"OD\": \"Segmento Odontológico\",\n",
    "    \"AMB\": \"Segmento Ambulatorial\"\n",
    "}\n",
    "\n",
    "def extrair_dados(caminho_pdf):\n",
    "    dados = []\n",
    "    with pdfplumber.open(caminho_pdf) as pdf:\n",
    "        for pag in pdf.pages:\n",
    "            tabela = pag.extract_table()\n",
    "            if tabela:\n",
    "                dados.extend(tabela)\n",
    "    return dados\n",
    "\n",
    "def formatar_tabelas(dados):\n",
    "    df = pd.DataFrame(dados)\n",
    "    df.columns = df.iloc[0]\n",
    "    df = df[1:]\n",
    "    df = df.dropna(how=\"all\")\n",
    "\n",
    "    df.replace(abreviacoes, inplace=True)\n",
    "\n",
    "    return df\n",
    "\n",
    "def salvar_csv(df, arquivo_saida):\n",
    "    df.to_csv(arquivo_saida, index=False, encoding=\"utf-8-sig\")\n",
    "\n",
    "def salvar_zip(arquivo_csv, arquivo_zip):\n",
    "    with zipfile.ZipFile(arquivo_zip, \"w\", zipfile.ZIP_DEFLATED) as zipf:\n",
    "        zipf.write(arquivo_csv)\n",
    "\n",
    "dados_extraidos = extrair_dados(arquivo_pdf)\n",
    "tabela_formatada = formatar_tabelas(dados_extraidos)\n",
    "salvar_csv(tabela_formatada, arquivo_csv)\n",
    "salvar_zip(arquivo_csv, arquivo_zip)\n",
    "\n",
    "print(f\"✅ Arquivos gerados com sucesso: {arquivo_zip}\")"
   ]
  },
  {
   "cell_type": "code",
   "execution_count": null,
   "id": "7bb8cb9b-bac5-4439-b8c4-708668c8082e",
   "metadata": {},
   "outputs": [],
   "source": []
  },
  {
   "cell_type": "code",
   "execution_count": null,
   "id": "4ba52509-1d3e-4d01-b39c-6c540bd41172",
   "metadata": {},
   "outputs": [],
   "source": []
  }
 ],
 "metadata": {
  "kernelspec": {
   "display_name": "Python 3 (ipykernel)",
   "language": "python",
   "name": "python3"
  },
  "language_info": {
   "codemirror_mode": {
    "name": "ipython",
    "version": 3
   },
   "file_extension": ".py",
   "mimetype": "text/x-python",
   "name": "python",
   "nbconvert_exporter": "python",
   "pygments_lexer": "ipython3",
   "version": "3.13.2"
  }
 },
 "nbformat": 4,
 "nbformat_minor": 5
}
